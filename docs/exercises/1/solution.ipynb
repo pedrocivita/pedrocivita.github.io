{
 "cells": [
  {
   "cell_type": "markdown",
   "id": "9b02545c",
   "metadata": {},
   "source": [
    "# Data Exercises"
   ]
  },
  {
   "cell_type": "markdown",
   "id": "963f6b2a",
   "metadata": {},
   "source": [
    "## Exercise 1: Exploring Class Separability in 2D"
   ]
  },
  {
   "cell_type": "code",
   "execution_count": null,
   "id": "3bde3901",
   "metadata": {},
   "outputs": [],
   "source": [
    "import numpy as np\n",
    "import matplotlib.pyplot as plt\n",
    "np.random.seed(0)\n",
    "means = [(0,0),(1,1),(0,1),(1,0)]\n",
    "std = 0.3\n",
    "X=[]; y=[]\n",
    "for i, m in enumerate(means):\n",
    "    X.append(np.random.normal(m, std, size=(100,2)))\n",
    "    y.append(np.full(100,i))\n",
    "X=np.vstack(X); y=np.concatenate(y)\n",
    "colors=['C0','C1','C2','C3']\n",
    "for i in range(4):\n",
    "    plt.scatter(X[y==i,0], X[y==i,1], s=10, c=colors[i], label=f\"Class {i}\")\n",
    "plt.legend(); plt.xlabel('x1'); plt.ylabel('x2'); plt.title('Exercise 1 Data');\n"
   ]
  },
  {
   "cell_type": "markdown",
   "id": "1005e3eb",
   "metadata": {},
   "source": [
    "## Exercise 2: Non-Linearity in Higher Dimensions"
   ]
  },
  {
   "cell_type": "code",
   "execution_count": null,
   "id": "0590965f",
   "metadata": {},
   "outputs": [],
   "source": [
    "import numpy as np\n",
    "from sklearn.decomposition import PCA\n",
    "np.random.seed(0)\n",
    "mean_a = np.ones(5)\n",
    "mean_b = -np.ones(5)\n",
    "cov = np.eye(5)\n",
    "A = np.random.multivariate_normal(mean_a, cov, size=500)\n",
    "B = np.random.multivariate_normal(mean_b, cov, size=500)\n",
    "X = np.vstack([A,B])\n",
    "y = np.array([0]*500 + [1]*500)\n",
    "pca = PCA(n_components=2)\n",
    "X2 = pca.fit_transform(X)\n",
    "import matplotlib.pyplot as plt\n",
    "plt.figure()\n",
    "plt.scatter(X2[y==0,0], X2[y==0,1], s=10, label='Class A')\n",
    "plt.scatter(X2[y==1,0], X2[y==1,1], s=10, label='Class B')\n",
    "plt.legend(); plt.title('PCA Projection'); plt.xlabel('PC1'); plt.ylabel('PC2');\n"
   ]
  },
  {
   "cell_type": "markdown",
   "id": "a9d2658e",
   "metadata": {},
   "source": [
    "## Exercise 3: Preparing Real-World Data"
   ]
  },
  {
   "cell_type": "code",
   "execution_count": null,
   "id": "0facc376",
   "metadata": {},
   "outputs": [],
   "source": [
    "# The Spaceship Titanic dataset can be loaded with pandas once available:\n",
    "# import pandas as pd\n",
    "# df = pd.read_csv('train.csv')\n",
    "# # Inspect and preprocess as described in the instructions\n"
   ]
  }
 ],
 "metadata": {},
 "nbformat": 4,
 "nbformat_minor": 5
}
